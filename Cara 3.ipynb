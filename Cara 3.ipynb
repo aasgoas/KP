{
 "cells": [
  {
   "cell_type": "code",
   "execution_count": 21,
   "id": "78eb0c2c",
   "metadata": {
    "scrolled": true
   },
   "outputs": [
    {
     "name": "stderr",
     "output_type": "stream",
     "text": [
      "--2022-08-11 23:51:35--  https://github.com/AllenDowney/ThinkDSP/blob/master/code/thinkdsp.py\n",
      "Resolving github.com (github.com)... 20.205.243.166\n",
      "Connecting to github.com (github.com)|20.205.243.166|:443... connected.\n",
      "HTTP request sent, awaiting response... 200 OK\n",
      "Length: unspecified [text/html]\n",
      "Saving to: 'thinkdsp.py'\n",
      "\n",
      "     0K .......... .......... .......... .......... .......... 1,12M\n",
      "    50K .......... .......... .......... .......... .......... 2,90M\n",
      "   100K .......... .......... .......... .......... .......... 3,34M\n",
      "   150K .......... .......... .......... .......... .......... 2,57M\n",
      "   200K .......... .......... .......... .......... .......... 2,93M\n",
      "   250K .......... .......... .......... .......... .......... 4,22M\n",
      "   300K .......... .......... .......... .......... .......... 3,74M\n",
      "   350K .......... .......... .......... .......... .......... 3,78M\n",
      "   400K .......... .......... .......... .......... .......... 3,78M\n",
      "   450K .......... .......... .......... .......... .......... 3,35M\n",
      "   500K .......... .......... .......... .......... .......... 4,18M\n",
      "   550K .......... .......... .......... .......... .......... 3,22M\n",
      "   600K .......... .......... .......... .......... .......... 4,25M\n",
      "   650K .......... .......... .......... .......... .......... 4,12M\n",
      "   700K .......... .......... .......... .......... .......... 3,96M\n",
      "   750K .......... .......... .......... .......... .......... 2,58M\n",
      "   800K .......... .......... .......... .......... .......... 3,29M\n",
      "   850K .......... .......... .......... .......... .......... 3,57M\n",
      "   900K .......... .......... .......... .......... .......... 5,94M\n",
      "   950K .......... .......... .......... .......... .......... 3,39M\n",
      "  1000K .......... .......... .....                            12,9M=0,3s\n",
      "\n",
      "2022-08-11 23:51:37 (3,23 MB/s) - 'thinkdsp.py' saved [1049975]\n",
      "\n"
     ]
    }
   ],
   "source": [
    "import os\n",
    "if not os.path.exists('thinkdsp.py'):\n",
    "    !wget https://github.com/AllenDowney/ThinkDSP/blob/master/code/thinkdsp.py"
   ]
  },
  {
   "cell_type": "code",
   "execution_count": 30,
   "id": "592932d7",
   "metadata": {},
   "outputs": [],
   "source": [
    "import wave"
   ]
  },
  {
   "cell_type": "code",
   "execution_count": 1,
   "id": "90c8bd4d",
   "metadata": {},
   "outputs": [
    {
     "ename": "NameError",
     "evalue": "name 'wave' is not defined",
     "output_type": "error",
     "traceback": [
      "\u001b[1;31m---------------------------------------------------------------------------\u001b[0m",
      "\u001b[1;31mNameError\u001b[0m                                 Traceback (most recent call last)",
      "Input \u001b[1;32mIn [1]\u001b[0m, in \u001b[0;36m<cell line: 1>\u001b[1;34m()\u001b[0m\n\u001b[1;32m----> 1\u001b[0m w \u001b[38;5;241m=\u001b[39m \u001b[43mwave\u001b[49m\u001b[38;5;241m.\u001b[39mopen(\u001b[38;5;124m'\u001b[39m\u001b[38;5;124maas.wav\u001b[39m\u001b[38;5;124m'\u001b[39m,\u001b[38;5;124m'\u001b[39m\u001b[38;5;124mr\u001b[39m\u001b[38;5;124m'\u001b[39m)\n\u001b[0;32m      2\u001b[0m \u001b[38;5;28;01mfor\u001b[39;00m i \u001b[38;5;129;01min\u001b[39;00m \u001b[38;5;28mrange\u001b[39m(w\u001b[38;5;241m.\u001b[39mgetnframes()):\n\u001b[0;32m      3\u001b[0m     frame \u001b[38;5;241m=\u001b[39m w\u001b[38;5;241m.\u001b[39mreadframes(i)\n",
      "\u001b[1;31mNameError\u001b[0m: name 'wave' is not defined"
     ]
    }
   ],
   "source": [
    "w = wave.open('aas.wav','r')\n",
    "for i in range(w.getnframes()):\n",
    "    frame = w.readframes(i)\n",
    "    print (frame)"
   ]
  },
  {
   "cell_type": "code",
   "execution_count": null,
   "id": "d10d8a72",
   "metadata": {},
   "outputs": [],
   "source": []
  }
 ],
 "metadata": {
  "kernelspec": {
   "display_name": "Python 3 (ipykernel)",
   "language": "python",
   "name": "python3"
  },
  "language_info": {
   "codemirror_mode": {
    "name": "ipython",
    "version": 3
   },
   "file_extension": ".py",
   "mimetype": "text/x-python",
   "name": "python",
   "nbconvert_exporter": "python",
   "pygments_lexer": "ipython3",
   "version": "3.9.12"
  }
 },
 "nbformat": 4,
 "nbformat_minor": 5
}
